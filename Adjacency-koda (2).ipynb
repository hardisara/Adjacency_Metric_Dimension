{
 "cells": [
  {
   "cell_type": "markdown",
   "id": "cea54b",
   "metadata": {
    "collapsed": false
   },
   "source": [
    "## Adjacency metric dimension - kode\n",
    "\n"
   ]
  },
  {
   "cell_type": "markdown",
   "id": "bb31a7",
   "metadata": {
    "collapsed": false
   },
   "source": [
    "Adjacency metric dimension iščemo s pomočjo CLP (glej kratki opis projekta). Spodaj je definirana funkcija dim_A(G), ki ravno z uporabo CLP poišče iskano množico S.\n",
    "\n"
   ]
  },
  {
   "cell_type": "code",
   "execution_count": 4,
   "id": "42ccd8",
   "metadata": {
    "collapsed": false
   },
   "outputs": [
   ],
   "source": [
    "from sage.all import *\n",
    "\n",
    "# Funkcija za izračun dimenzije sosednosti (dim_A(G))\n",
    "def dim_A(G):\n",
    "    vozlisca = G.vertices()\n",
    "    p = MixedIntegerLinearProgram(maximization=False)\n",
    "    x = p.new_variable(binary=True)  # Binarne spremenljivke za vozlišča\n",
    "    matrika_sosednosti = G.adjacency_matrix()\n",
    "\n",
    "    # Ciljna funkcija: minimiziramo vsoto x[v] za v v V\n",
    "    p.set_objective(sum(x[v] for v in vozlisca))\n",
    "\n",
    "    # Dodajanje omejitev za vsako kombinacijo vozlišč (v, w)\n",
    "    for v in vozlisca:\n",
    "        for w in vozlisca:\n",
    "            if v != w:\n",
    "                p.add_constraint(\n",
    "                    sum(abs(matrika_sosednosti[u][v] - matrika_sosednosti[u][w]) * x[u] for u in vozlisca)\n",
    "                    + x[v] + x[w] >= 1\n",
    "                )\n",
    "\n",
    "    # Rešimo linearni program\n",
    "    p.solve()\n",
    "\n",
    "    # Določimo velikost množice S na osnovi rešitev\n",
    "    S = [v for v in vozlisca if p.get_values(x[v]) == 1]\n",
    "\n",
    "    return len(S), S  # Vrne velikost množice S (dim_A(G)) in samo množico S"
   ]
  },
  {
   "cell_type": "markdown",
   "id": "fb0f83",
   "metadata": {
    "collapsed": false
   },
   "source": [
    "### Iskanje grafov z $dim_A(G) = 1, 2, 3$\n",
    "\n"
   ]
  },
  {
   "cell_type": "markdown",
   "id": "964013",
   "metadata": {
    "collapsed": false
   },
   "source": [
    "Spodaj so kode, ki nam pomagajo lažje odgovoriti vprašanje 'Kateri grafi imajo $dim_A(G) = 1, 2, 3$?'\n",
    "\n"
   ]
  },
  {
   "cell_type": "code",
   "execution_count": 14,
   "id": "cf97e0",
   "metadata": {
    "collapsed": false
   },
   "outputs": [
   ],
   "source": [
    "# Funkcija za analizo grafov z dimenzijo 1\n",
    "def analiziraj_grafe_dim1(min_vozlisca=3, max_vozlisca=5):\n",
    "    # Generiraj povezane grafe za dano število vozlišč\n",
    "    for n in range(min_vozlisca, max_vozlisca + 1):\n",
    "        print(f\"\\nPovezani grafi na {n} vozliščih z dimenzijo 1:\")\n",
    "        \n",
    "        for G in graphs.nauty_geng(f\"{n} -c\"):  # Povezani grafi z 'n' vozlišči\n",
    "            # Izračun dimenzije sosednosti za trenutni graf\n",
    "            dim = dim_A(G)\n",
    "            \n",
    "            if dim[0] == 1:\n",
    "\n",
    "            # Prikaz grafa\n",
    "                G.show()\n",
    "\n",
    "            # Izpis rezultatov\n",
    "                print(f\"Graf {G.name()}:\")\n",
    "                print(f\"Dimenzija sosednosti (dim_A(G)): {dim}\")\n",
    "                \n",
    "                \n",
    "#___________________________________________________________________________________               \n",
    "\n",
    "# Funkcija za analizo grafov z dimenzijo 2\n",
    "def analiziraj_grafe_dim2(min_vozlisca=3, max_vozlisca=5):\n",
    "    # Generiraj povezane grafe za dano število vozlišč\n",
    "    for n in range(min_vozlisca, max_vozlisca + 1):\n",
    "        print(f\"\\nPovezani grafi na {n} vozliščih z dimenzijo 2:\")\n",
    "        \n",
    "        for G in graphs.nauty_geng(f\"{n} -c\"):  # Povezani grafi z 'n' vozlišči\n",
    "            # Izračun dimenzije sosednosti za trenutni graf\n",
    "            dim = dim_A(G)\n",
    "            \n",
    "            if dim[0] == 2:\n",
    "\n",
    "            # Prikaz grafa\n",
    "                G.show()\n",
    "\n",
    "            # Izpis rezultatov\n",
    "                print(f\"Graf {G.name()}:\")\n",
    "                print(f\"Dimenzija sosednosti (dim_A(G)): {dim}\")\n",
    "                \n",
    "                \n",
    "                \n",
    "#____________________________________________________________________________________\n",
    "\n",
    "# Funkcija za analizo grafov z dimenzijo 3\n",
    "def analiziraj_grafe_dim3(min_vozlisca=3, max_vozlisca=5):\n",
    "    # Generiraj povezane grafe za dano število vozlišč\n",
    "    for n in range(min_vozlisca, max_vozlisca + 1):\n",
    "        print(f\"\\nPovezani grafi na {n} vozliščih z dimenzijo 3:\")\n",
    "        \n",
    "        for G in graphs.nauty_geng(f\"{n} -c\"):  # Povezani grafi z 'n' vozlišči\n",
    "            # Izračun dimenzije sosednosti za trenutni graf\n",
    "            dim = dim_A(G)\n",
    "            \n",
    "            if dim[0] == 3:\n",
    "\n",
    "            # Prikaz grafa\n",
    "                G.show()\n",
    "\n",
    "            # Izpis rezultatov\n",
    "                print(f\"Graf {G.name()}:\")\n",
    "                print(f\"Dimenzija sosednosti (dim_A(G)): {dim}\")"
   ]
  },
  {
   "cell_type": "markdown",
   "id": "02afc7",
   "metadata": {
    "collapsed": false
   },
   "source": [
    "### Iskanje grafov z $dim_A(G) = n, n-1, n-2$ \n",
    "\n"
   ]
  },
  {
   "cell_type": "markdown",
   "id": "b3453a",
   "metadata": {
    "collapsed": false
   },
   "source": [
    "Spodnje kode nam pomagajo analizirati kateri grafi z n vozlišči imajo $dim_A(G) = n, n-1, n-2$.\n",
    "\n"
   ]
  },
  {
   "cell_type": "code",
   "execution_count": 6,
   "id": "7b4f0f",
   "metadata": {
    "collapsed": false
   },
   "outputs": [
   ],
   "source": [
    "# Funkcija za analizo grafov z dimenzijo n\n",
    "def analiziraj_grafe_dim_n(min_vozlisca=3, max_vozlisca=5):\n",
    "    # Generiraj povezane grafe za dano število vozlišč\n",
    "    for n in range(min_vozlisca, max_vozlisca + 1):\n",
    "        print(f\"\\nPovezani grafi na {n} vozliščih z dimenzijo {n}:\")\n",
    "        \n",
    "        for G in graphs.nauty_geng(f\"{n} -c\"):  # Povezani grafi z 'n' vozlišči\n",
    "            # Izračun dimenzije sosednosti za trenutni graf\n",
    "            dim = dim_A(G)\n",
    "            \n",
    "            if dim[0] == n:\n",
    "\n",
    "            # Prikaz grafa\n",
    "                G.show()\n",
    "\n",
    "            # Izpis rezultatov\n",
    "                print(f\"Graf {G.name()}:\")\n",
    "                print(f\"Dimenzija sosednosti (dim_A(G)): {dim}\")\n",
    "                \n",
    "                \n",
    "                \n",
    "#____________________________________________________________________________________\n",
    "\n",
    "# Funkcija za generacijo in analizo grafov z dimenzijo n-1\n",
    "def analiziraj_grafe_dim_n1(min_vozlisca=3, max_vozlisca=5):\n",
    "    # Generiraj povezane grafe za dano število vozlišč\n",
    "    for n in range(min_vozlisca, max_vozlisca + 1):\n",
    "        print(f\"\\nPovezani grafi na {n} vozliščih z dimenzijo {n-1}:\")\n",
    "        \n",
    "        for G in graphs.nauty_geng(f\"{n} -c\"):  # Povezani grafi z 'n' vozlišči\n",
    "            # Izračun dimenzije sosednosti za trenutni graf\n",
    "            dim = dim_A(G)\n",
    "            \n",
    "            if dim[0] == n-1:\n",
    "\n",
    "            # Prikaz grafa\n",
    "                G.show()\n",
    "\n",
    "            # Izpis rezultatov\n",
    "                print(f\"Graf {G.name()}:\")\n",
    "                print(f\"Dimenzija sosednosti (dim_A(G)): {dim}\")\n",
    "                \n",
    "                \n",
    "               \n",
    "#___________________________________________________________________________________\n",
    "\n",
    "# Funkcija za generacijo in analizo grafov z dimenzijo n-2\n",
    "def analiziraj_grafe_dim_n2(min_vozlisca=3, max_vozlisca=5):\n",
    "    # Generiraj povezane grafe za dano število vozlišč\n",
    "    for n in range(min_vozlisca, max_vozlisca + 1):\n",
    "        print(f\"\\nPovezani grafi na {n} vozliščih z dimenzijo {n-2}:\")\n",
    "        \n",
    "        for G in graphs.nauty_geng(f\"{n} -c\"):  # Povezani grafi z 'n' vozlišči\n",
    "            # Izračun dimenzije sosednosti za trenutni graf\n",
    "            dim = dim_A(G)\n",
    "            \n",
    "            if dim[0] == n-2:\n",
    "\n",
    "            # Prikaz grafa\n",
    "                G.show()\n",
    "\n",
    "            # Izpis rezultatov\n",
    "                print(f\"Graf {G.name()}:\")\n",
    "                print(f\"Dimenzija sosednosti (dim_A(G)): {dim}\")"
   ]
  },
  {
   "cell_type": "markdown",
   "id": "3602fb",
   "metadata": {
    "collapsed": false
   },
   "source": [
    "### Iskanje spodnje in zgornje meje za 'adjacency metric dimension' dreves z n vozlišči\n",
    "\n"
   ]
  },
  {
   "cell_type": "markdown",
   "id": "72a2e6",
   "metadata": {
    "collapsed": false
   },
   "source": [
    "S spodnjo kodo analiziramo predpostavko, da je $ \\frac{n}{2} \\leq dim_A(T)  \\leq n-2$, kjer je T drevo z n vozlišči.\n",
    "\n"
   ]
  },
  {
   "cell_type": "code",
   "execution_count": 9,
   "id": "7b578e",
   "metadata": {
    "collapsed": false
   },
   "outputs": [
   ],
   "source": [
    "# Funkcija za analizo dreves\n",
    "def analiziraj_drevesa(min_vozlisca=3, max_vozlisca=5):\n",
    "    # Ustvari slovar za shranjevanje minimalne in maksimalne dimenzije za vsak graf\n",
    "    dimenzije = {}\n",
    "\n",
    "    # Generiraj drevesa za dano število vozlišč\n",
    "    for n in range(min_vozlisca, max_vozlisca + 1):\n",
    "        print(f\"\\nDrevesa na {n} vozliščih:\")\n",
    "\n",
    "        min_dim = float('inf')  # Začetna vrednost za minimalno dimenzijo\n",
    "        max_dim = -float('inf')  # Začetna vrednost za maksimalno dimenzijo\n",
    "       \n",
    "        for T in graphs.trees(n):  # Drevesa z 'n' vozlišči\n",
    "            # Izračun dimenzije sosednosti za trenutno drevo\n",
    "            dim, S = dim_A(T)  # Pridobimo dimenzijo in množico S\n",
    "\n",
    "            # Posodobi minimalno in maksimalno dimenzijo\n",
    "            min_dim = min(min_dim, dim)\n",
    "            max_dim = max(max_dim, dim)\n",
    "           \n",
    "       \n",
    "            if dim == n/2 or dim == n-2:     # Prikaz drevesa\n",
    "                T.show()\n",
    "\n",
    "            # Izpis rezultatov\n",
    "            print(f\"Drevo {T.name()}:\")\n",
    "            print(f\"Najmanjša množica S: {S}\")\n",
    "            print(f\"Dimenzija sosednosti (dim_A(G)): {dim}\")\n",
    "\n",
    "        # Po analizi vseh dreves za 'n' vozlišč izpiši minimalno in maksimalno dimenzijo\n",
    "        print(f\"\\nZa {n} vozlišč je minimalna dimenzija: {min_dim}\")\n",
    "        print(f\"Za {n} vozlišč je maksimalna dimenzija: {max_dim}\")\n",
    "        dimenzije[n] = (min_dim, max_dim)  # Shrani rezultata za poznejšo analizo\n",
    "\n",
    "    # Vrni dimenzije za vse vrednosti n\n",
    "    return dimenzije"
   ]
  }
 ],
 "metadata": {
  "kernelspec": {
   "argv": [
    "sage-10.4",
    "--python",
    "-m",
    "sage.repl.ipython_kernel",
    "--matplotlib=inline",
    "-f",
    "{connection_file}"
   ],
   "display_name": "SageMath 10.4",
   "env": {
   },
   "language": "sagemath",
   "metadata": {
    "cocalc": {
     "description": "Open-source mathematical software system",
     "priority": 10,
     "url": "https://www.sagemath.org/"
    }
   },
   "name": "sage-10.4",
   "resource_dir": "/ext/jupyter/kernels/sage-10.4"
  },
  "language_info": {
   "codemirror_mode": {
    "name": "ipython",
    "version": 3
   },
   "file_extension": ".py",
   "mimetype": "text/x-python",
   "name": "python",
   "nbconvert_exporter": "python",
   "pygments_lexer": "ipython3",
   "version": "3.12.4"
  }
 },
 "nbformat": 4,
 "nbformat_minor": 4
}